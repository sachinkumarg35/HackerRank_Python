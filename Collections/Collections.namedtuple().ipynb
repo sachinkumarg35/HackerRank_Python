{
 "cells": [
  {
   "cell_type": "markdown",
   "metadata": {},
   "source": [
    "#### problem\n",
    "collections.namedtuple()\n",
    "Basically, namedtuples are easy to create, lightweight object types.\n",
    "They turn tuples into convenient containers for simple tasks.\n",
    "With namedtuples, you don’t have to use integer indices for accessing members of a tuple."
   ]
  },
  {
   "cell_type": "code",
   "execution_count": 2,
   "metadata": {},
   "outputs": [
    {
     "name": "stdout",
     "output_type": "stream",
     "text": [
      "11\n"
     ]
    }
   ],
   "source": [
    "from collections import namedtuple\n",
    "Point = namedtuple('Point', 'x, y')\n",
    "pt1 = Point(1, 2)\n",
    "pt2 = Point(3, 4)\n",
    "dot_product = (pt1.x * pt2.x) + (pt1.y * pt2.y)\n",
    "print(dot_product)"
   ]
  },
  {
   "cell_type": "markdown",
   "metadata": {},
   "source": [
    "#### Task :\n",
    "Dr. John Wesley has a spreadsheet containing a list of student’s IDs, Marks, class and name.\n",
    "Your task is to help Dr. Wesley calculate the average marks of the students.\n",
    "\n",
    "Collections.namedtuple() in Python - Hacker Rank Solution\n",
    "##### Note:\n",
    "1. Columns can be in any order. IDs, marks, class and name can be written in any order in the spreadsheet.\n",
    "2. Column names are ID, MARKS, CLASS and NAME. (The spelling and case type of these names won’t change.)"
   ]
  },
  {
   "cell_type": "markdown",
   "metadata": {},
   "source": [
    "#### Input Format :\n",
    "1. The first line contains an integer N, the total number of students.\n",
    "2. The second line contains the names of the columns in any order.\n",
    "3. The next N lines contains the marks, IDs, name and class, under their respective column names."
   ]
  },
  {
   "cell_type": "markdown",
   "metadata": {},
   "source": [
    "#### Output Format :\n",
    "Print the average marks of the list corrected to 2 decimal places."
   ]
  },
  {
   "cell_type": "code",
   "execution_count": 5,
   "metadata": {},
   "outputs": [
    {
     "name": "stdout",
     "output_type": "stream",
     "text": [
      "5\n",
      "ID NAME MARKS CLASS\n",
      "1 Sachin 97 4\n",
      "2 Krishna 85 3\n",
      "3 Abhishek 96 5\n",
      "4 Mohan 86 4\n",
      "5 Rishi 98 6\n",
      "92.4\n"
     ]
    }
   ],
   "source": [
    "import collections\n",
    "n = int(input())\n",
    "scol = ','.join(input().split())\n",
    "Student = collections.namedtuple('Student', scol)\n",
    "sum = 0\n",
    "for i in range(n):\n",
    "    row = input().split()\n",
    "    student = Student(*row)\n",
    "    sum += int(student.MARKS) \n",
    "print(sum/n)"
   ]
  },
  {
   "cell_type": "code",
   "execution_count": null,
   "metadata": {},
   "outputs": [],
   "source": []
  }
 ],
 "metadata": {
  "kernelspec": {
   "display_name": "Python 3",
   "language": "python",
   "name": "python3"
  },
  "language_info": {
   "codemirror_mode": {
    "name": "ipython",
    "version": 3
   },
   "file_extension": ".py",
   "mimetype": "text/x-python",
   "name": "python",
   "nbconvert_exporter": "python",
   "pygments_lexer": "ipython3",
   "version": "3.8.5"
  }
 },
 "nbformat": 4,
 "nbformat_minor": 4
}
