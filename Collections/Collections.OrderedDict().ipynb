{
 "cells": [
  {
   "cell_type": "markdown",
   "metadata": {},
   "source": [
    "#### problem\n",
    "collections.OrderedDict\n",
    "An OrderedDict is a dictionary that remembers the order of the keys that were inserted first. If a new entry overwrites an existing entry, the original insertion position is left unchanged."
   ]
  },
  {
   "cell_type": "code",
   "execution_count": 2,
   "metadata": {},
   "outputs": [
    {
     "name": "stdout",
     "output_type": "stream",
     "text": [
      "{'a': 1, 'b': 2, 'c': 3, 'd': 4, 'e': 5}\n"
     ]
    }
   ],
   "source": [
    "from collections import OrderedDict\n",
    "\n",
    "ordinary_dict = {}\n",
    "ordinary_dict['a'] = 1\n",
    "ordinary_dict['b'] = 2\n",
    "ordinary_dict['c'] = 3\n",
    "ordinary_dict['d'] = 4\n",
    "ordinary_dict['e'] = 5\n",
    "print(ordinary_dict)"
   ]
  },
  {
   "cell_type": "code",
   "execution_count": 3,
   "metadata": {},
   "outputs": [
    {
     "name": "stdout",
     "output_type": "stream",
     "text": [
      "OrderedDict([('a', 1), ('b', 2), ('c', 3), ('d', 4), ('e', 5)])\n"
     ]
    }
   ],
   "source": [
    "ordinary_dict = OrderedDict()\n",
    "\n",
    "ordinary_dict['a'] = 1\n",
    "ordinary_dict['b'] = 2\n",
    "ordinary_dict['c'] = 3\n",
    "ordinary_dict['d'] = 4\n",
    "ordinary_dict['e'] = 5\n",
    "print(ordinary_dict)"
   ]
  },
  {
   "cell_type": "markdown",
   "metadata": {},
   "source": [
    "#### Task :\n",
    "You are the manager of a supermarket.\n",
    "You have a list of N items together with their prices that consumers bought on a particular day.\n",
    "Your task is to print each item_name and net_price in order of its first occurrence.\n",
    "\n",
    "item_name = Name of the item.\n",
    "net_price = Quantity of the item sold multiplied by the price of each item."
   ]
  },
  {
   "cell_type": "markdown",
   "metadata": {},
   "source": [
    "#### Input Format :\n",
    "The first line contains the number of items, N.\n",
    "The next N lines contains the item’s name and price, separated by a space."
   ]
  },
  {
   "cell_type": "markdown",
   "metadata": {},
   "source": [
    "#### Output Format :\n",
    "Print the item_name and net_price in order of its first occurrence."
   ]
  },
  {
   "cell_type": "markdown",
   "metadata": {},
   "source": [
    "#### Explanation :\n",
    "BANANA FRIES: Quantity bought: 1, Price: 12\n",
    "Net Price: 12\n",
    "POTATO CHIPS: Quantity bought: 2, Price: 30\n",
    "Net Price:\n",
    "APPLE JUICE: Quantity bought: 2, Price: 10\n",
    "Net Price: 20\n",
    "CANDY: Quantity bought: 4, Price: 5\n",
    "Net Price:20"
   ]
  },
  {
   "cell_type": "code",
   "execution_count": 4,
   "metadata": {},
   "outputs": [
    {
     "name": "stdout",
     "output_type": "stream",
     "text": [
      "9\n",
      "Banana Fries 12\n",
      "Potato Chips 30\n",
      "Apple Juice 10\n",
      "Candy 5\n",
      "Apple Juice 10\n",
      "Candy 5\n",
      "Candy 5\n",
      "Candy 5\n",
      "Potato Chips 30\n",
      "Banana Fries 12\n",
      "Potato Chips 60\n",
      "Apple Juice 20\n",
      "Candy 20\n"
     ]
    }
   ],
   "source": [
    "from collections import*\n",
    "N = int(input())\n",
    "d = OrderedDict()\n",
    "for i in range(N):\n",
    "    item = input().split()\n",
    "    itemPrice = int(item[-1])\n",
    "    itemName = \" \".join(item[:-1])\n",
    "    if (d.get(itemName)):\n",
    "        d[itemName] += itemPrice\n",
    "    else:\n",
    "        d[itemName] = itemPrice\n",
    "for i in d.keys():\n",
    "    print(i, d[i])"
   ]
  },
  {
   "cell_type": "code",
   "execution_count": null,
   "metadata": {},
   "outputs": [],
   "source": []
  }
 ],
 "metadata": {
  "kernelspec": {
   "display_name": "Python 3",
   "language": "python",
   "name": "python3"
  },
  "language_info": {
   "codemirror_mode": {
    "name": "ipython",
    "version": 3
   },
   "file_extension": ".py",
   "mimetype": "text/x-python",
   "name": "python",
   "nbconvert_exporter": "python",
   "pygments_lexer": "ipython3",
   "version": "3.8.5"
  }
 },
 "nbformat": 4,
 "nbformat_minor": 4
}
