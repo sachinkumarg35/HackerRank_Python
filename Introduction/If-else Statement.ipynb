{
 "cells": [
  {
   "cell_type": "markdown",
   "metadata": {},
   "source": [
    "Task\n",
    "#. Given an integer, n, perform the following conditional actions:\n",
    "\n",
    "1. If n is odd, print Weird\n",
    "2. If n is even and in the inclusive range of 2 to 5, print Not Weird\n",
    "3. If n is even and in the inclusive range of 6 to 20, print Weird\n",
    "4. If n is even and greater than 20, print Not Weird"
   ]
  },
  {
   "cell_type": "code",
   "execution_count": 1,
   "metadata": {},
   "outputs": [
    {
     "name": "stdout",
     "output_type": "stream",
     "text": [
      "5\n",
      "weird\n"
     ]
    }
   ],
   "source": [
    "n = int(input())\n",
    "if n%2 == 1:\n",
    "    print(\"weird\")\n",
    "elif n%2 == 0 and 2 <= n <= 5:\n",
    "    print(\"Not Weird\")\n",
    "elif n%2 == 0 and 6 <= n <= 20:\n",
    "    print(\"Weird\")\n",
    "else:\n",
    "    print(\"Not Weird\")"
   ]
  },
  {
   "cell_type": "code",
   "execution_count": null,
   "metadata": {},
   "outputs": [],
   "source": []
  }
 ],
 "metadata": {
  "kernelspec": {
   "display_name": "Python 3",
   "language": "python",
   "name": "python3"
  },
  "language_info": {
   "codemirror_mode": {
    "name": "ipython",
    "version": 3
   },
   "file_extension": ".py",
   "mimetype": "text/x-python",
   "name": "python",
   "nbconvert_exporter": "python",
   "pygments_lexer": "ipython3",
   "version": "3.8.5"
  }
 },
 "nbformat": 4,
 "nbformat_minor": 4
}
