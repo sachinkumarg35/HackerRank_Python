{
 "cells": [
  {
   "cell_type": "markdown",
   "metadata": {},
   "source": [
    "#### problem\n",
    "You are given an integer N followed by N email addresses. Your task is to print a list containing only valid email addresses in lexicographical order.\n",
    "\n",
    "Valid email addresses must follow these rules:It must have the username@websitename.extension format type.\n",
    "\n",
    "The username can only contain letters, digits, dashes and underscores.\n",
    "\n",
    "The website name can only have letters and digits.\n",
    "\n",
    "The maximum length of the extension is 3.\n",
    "\n",
    "Concept :A filter takes a function returning True or False and applies it to a sequence, returning a list of only those members of the sequence where the function returned True. A Lambda function can be used with filters.\n",
    "\n",
    "Let’s say you have to make a list of the squares of integers from 0 to 9(both included)."
   ]
  },
  {
   "cell_type": "markdown",
   "metadata": {},
   "source": [
    "#### Input Format :\n",
    "The first line of input is the integer N, the number of email addresses.\n",
    "\n",
    "N lines follow, each containing a string.\n",
    "\n",
    "#### Constraints :\n",
    "Each line is a non-empty string.\n",
    "\n",
    "#### Output Format :\n",
    "Output a list containing the valid email addresses in lexicographical order. If the list is empty, just output an empty list, []."
   ]
  },
  {
   "cell_type": "code",
   "execution_count": 3,
   "metadata": {},
   "outputs": [
    {
     "name": "stdout",
     "output_type": "stream",
     "text": [
      "3\n",
      "lara@hackerrank.com\n",
      "brian-23@hackerrank.com\n",
      "britts_54@hackerrank.com\n",
      "['brian-23@hackerrank.com', 'lara@hackerrank.com']\n"
     ]
    }
   ],
   "source": [
    "def fun(email):\n",
    "    try:\n",
    "        username, url = email.split('@')\n",
    "        website, extension = url.split('.')\n",
    "    except ValueError:\n",
    "        return False\n",
    "    if username.replace('-', '').replace('-', '').isalnum() is False:\n",
    "        return False\n",
    "    elif website.isalnum() is False:\n",
    "        return False\n",
    "    elif len(extension) > 3:\n",
    "        return False\n",
    "    else:\n",
    "        return True\n",
    "def filter_mail(emails):\n",
    "    return list(filter(fun, emails))\n",
    "if __name__ == '__main__':\n",
    "    n = int(input())\n",
    "    emails = []\n",
    "    for _ in range(n):\n",
    "        emails.append(input())\n",
    "filtered_emails = filter_mail(emails)\n",
    "filtered_emails.sort()\n",
    "print(filtered_emails)"
   ]
  },
  {
   "cell_type": "code",
   "execution_count": null,
   "metadata": {},
   "outputs": [],
   "source": []
  }
 ],
 "metadata": {
  "kernelspec": {
   "display_name": "Python 3",
   "language": "python",
   "name": "python3"
  },
  "language_info": {
   "codemirror_mode": {
    "name": "ipython",
    "version": 3
   },
   "file_extension": ".py",
   "mimetype": "text/x-python",
   "name": "python",
   "nbconvert_exporter": "python",
   "pygments_lexer": "ipython3",
   "version": "3.8.5"
  }
 },
 "nbformat": 4,
 "nbformat_minor": 4
}
