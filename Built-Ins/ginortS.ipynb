{
 "cells": [
  {
   "cell_type": "markdown",
   "metadata": {},
   "source": [
    "#### problem\n",
    "You are given a string S.\n",
    "\n",
    "S contains alphanumeric characters only.\n",
    "\n",
    "\n",
    "Your task is to sort the string S in the following manner:\n",
    "\n",
    "1. All sorted lowercase letters are ahead of uppercase letters.\n",
    "2. All sorted uppercase letters are ahead of digits.\n",
    "3. All sorted odd digits are ahead of sorted even digits."
   ]
  },
  {
   "cell_type": "markdown",
   "metadata": {},
   "source": [
    "#### Input Format :\n",
    "A single line of input contains the string S.\n",
    "\n",
    "#### Constraints :\n",
    "0 < len(S) < 1000\n",
    "#### Output Format :\n",
    "Output the sorted string S."
   ]
  },
  {
   "cell_type": "code",
   "execution_count": 3,
   "metadata": {},
   "outputs": [
    {
     "name": "stdout",
     "output_type": "stream",
     "text": [
      "sorting23468\n",
      "ginorst32468\n"
     ]
    }
   ],
   "source": [
    "print(*sorted(input(), key=lambda c: (c.isdigit()  - c.islower(), c in '02468', c)), sep='')"
   ]
  },
  {
   "cell_type": "code",
   "execution_count": null,
   "metadata": {},
   "outputs": [],
   "source": []
  }
 ],
 "metadata": {
  "kernelspec": {
   "display_name": "Python 3",
   "language": "python",
   "name": "python3"
  },
  "language_info": {
   "codemirror_mode": {
    "name": "ipython",
    "version": 3
   },
   "file_extension": ".py",
   "mimetype": "text/x-python",
   "name": "python",
   "nbconvert_exporter": "python",
   "pygments_lexer": "ipython3",
   "version": "3.8.5"
  }
 },
 "nbformat": 4,
 "nbformat_minor": 4
}
