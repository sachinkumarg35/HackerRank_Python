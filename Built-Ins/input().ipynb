{
 "cells": [
  {
   "cell_type": "markdown",
   "metadata": {},
   "source": [
    "#### Task :\n",
    "You are given a polynomial P of a single indeterminate (or variable), x.\n",
    "\n",
    "You are also given the values of x and k. Your task is to verify if P(x) == k."
   ]
  },
  {
   "cell_type": "markdown",
   "metadata": {},
   "source": [
    "#### Constraints :\n",
    "All coefficients of polynomial P are integers.\n",
    "\n",
    "x and y are also integers.\n",
    "\n",
    "#### Input Format :\n",
    "The first line contains the space separated values of x and k.\n",
    "\n",
    "The second line contains the polynomial P.\n",
    "\n",
    "#### Output Format :\n",
    "Print True if P(x)==k. Otherwise, print False."
   ]
  },
  {
   "cell_type": "code",
   "execution_count": 1,
   "metadata": {},
   "outputs": [
    {
     "name": "stdout",
     "output_type": "stream",
     "text": [
      "1 4\n",
      "x**3 + x**2 + x + 1 \n",
      "True\n"
     ]
    }
   ],
   "source": [
    "if __name__ == '__main__':\n",
    "    x, k = map(int, input().strip().split())\n",
    "    string = input().strip()\n",
    "    if eval(string) == k:\n",
    "        print(True)\n",
    "    else:\n",
    "        print(False)"
   ]
  },
  {
   "cell_type": "markdown",
   "metadata": {},
   "source": [
    "#### Explanation :\n",
    "P(1) = 1^3 + 1^2 + 1 + 1 = 4 = k\n",
    "\n",
    "Hence, the output is True"
   ]
  },
  {
   "cell_type": "code",
   "execution_count": null,
   "metadata": {},
   "outputs": [],
   "source": []
  }
 ],
 "metadata": {
  "kernelspec": {
   "display_name": "Python 3",
   "language": "python",
   "name": "python3"
  },
  "language_info": {
   "codemirror_mode": {
    "name": "ipython",
    "version": 3
   },
   "file_extension": ".py",
   "mimetype": "text/x-python",
   "name": "python",
   "nbconvert_exporter": "python",
   "pygments_lexer": "ipython3",
   "version": "3.8.5"
  }
 },
 "nbformat": 4,
 "nbformat_minor": 4
}
