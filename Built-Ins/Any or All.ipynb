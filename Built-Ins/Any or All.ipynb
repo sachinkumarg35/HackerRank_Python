{
 "cells": [
  {
   "cell_type": "markdown",
   "metadata": {},
   "source": [
    "#### problem\n",
    "any()\n",
    "This expression returns True if any element of the iterable is true.\n",
    "If the iterable is empty, it will return False."
   ]
  },
  {
   "cell_type": "code",
   "execution_count": 1,
   "metadata": {},
   "outputs": [
    {
     "data": {
      "text/plain": [
       "True"
      ]
     },
     "execution_count": 1,
     "metadata": {},
     "output_type": "execute_result"
    }
   ],
   "source": [
    "any([1>0, 1==0, 1<0])"
   ]
  },
  {
   "cell_type": "code",
   "execution_count": 2,
   "metadata": {},
   "outputs": [
    {
     "data": {
      "text/plain": [
       "False"
      ]
     },
     "execution_count": 2,
     "metadata": {},
     "output_type": "execute_result"
    }
   ],
   "source": [
    "any([1<0, 2<1,3<2])"
   ]
  },
  {
   "cell_type": "markdown",
   "metadata": {},
   "source": [
    "all()\n",
    "This expression returns True if all of the elements of the iterable are true. If the iterable is empty, it will return True."
   ]
  },
  {
   "cell_type": "code",
   "execution_count": 3,
   "metadata": {},
   "outputs": [
    {
     "data": {
      "text/plain": [
       "True"
      ]
     },
     "execution_count": 3,
     "metadata": {},
     "output_type": "execute_result"
    }
   ],
   "source": [
    "all(['a'<'b', 'b'<'c'])"
   ]
  },
  {
   "cell_type": "code",
   "execution_count": 4,
   "metadata": {},
   "outputs": [
    {
     "data": {
      "text/plain": [
       "False"
      ]
     },
     "execution_count": 4,
     "metadata": {},
     "output_type": "execute_result"
    }
   ],
   "source": [
    "all(['a'<'b', 'c'<'b'])"
   ]
  },
  {
   "cell_type": "markdown",
   "metadata": {},
   "source": [
    "#### Task :\n",
    "You are given a space separated list of integers. If all the integers are positive, then you need to check if any integer is a palindromic integer."
   ]
  },
  {
   "cell_type": "markdown",
   "metadata": {},
   "source": [
    "#### Input Format :\n",
    "The first line contains an integer N. N is the total number of integers in the list.\n",
    "\n",
    "The second line contains the space separated list of N integers.\n",
    "\n",
    "#### Constraints :\n",
    "0 < N < 100\n",
    "\n",
    "#### Output Format :\n",
    "Print True if all the conditions of the problem statement are satisfied. Otherwise, print False."
   ]
  },
  {
   "cell_type": "code",
   "execution_count": 5,
   "metadata": {},
   "outputs": [
    {
     "name": "stdout",
     "output_type": "stream",
     "text": [
      "5\n",
      "12 9 61 5 14\n",
      "True\n"
     ]
    }
   ],
   "source": [
    "def isPositive(i):\n",
    "    if i > 0:\n",
    "        return True\n",
    "    return False\n",
    "def isPalindrome(i):\n",
    "    if int(str(i)[::-1]) is i:\n",
    "        return True\n",
    "    return False\n",
    "N = int(input())\n",
    "storage = map(int, input().split())\n",
    "storage = sorted(storage)\n",
    "if all([isPositive(i) for i in storage]):\n",
    "    if any([isPalindrome(i) for i in storage]):\n",
    "        print(\"True\")\n",
    "    else:\n",
    "        print(\"False\")\n",
    "else:\n",
    "    print(\"False\")"
   ]
  },
  {
   "cell_type": "code",
   "execution_count": null,
   "metadata": {},
   "outputs": [],
   "source": []
  }
 ],
 "metadata": {
  "kernelspec": {
   "display_name": "Python 3",
   "language": "python",
   "name": "python3"
  },
  "language_info": {
   "codemirror_mode": {
    "name": "ipython",
    "version": 3
   },
   "file_extension": ".py",
   "mimetype": "text/x-python",
   "name": "python",
   "nbconvert_exporter": "python",
   "pygments_lexer": "ipython3",
   "version": "3.8.5"
  }
 },
 "nbformat": 4,
 "nbformat_minor": 4
}
