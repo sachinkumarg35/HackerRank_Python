{
 "cells": [
  {
   "cell_type": "markdown",
   "metadata": {},
   "source": [
    "#### problem\n",
    "zip([iterable, …])\n",
    "\n",
    "This function returns a list of tuples. The i th tuple contains the i th element from each of the argument sequences or iterables.\n",
    "\n",
    "If the argument sequences are of unequal lengths, then the returned list is truncated to the length of the shortest argument sequence.\n",
    "\n",
    "#### Sample Code :"
   ]
  },
  {
   "cell_type": "code",
   "execution_count": 4,
   "metadata": {},
   "outputs": [
    {
     "name": "stdout",
     "output_type": "stream",
     "text": [
      "<zip object at 0x0000020F91727540>\n"
     ]
    }
   ],
   "source": [
    "a = zip([1,2,3,4,5,6], 'Hacker')\n",
    "print(a)"
   ]
  },
  {
   "cell_type": "code",
   "execution_count": 5,
   "metadata": {},
   "outputs": [
    {
     "name": "stdout",
     "output_type": "stream",
     "text": [
      "<zip object at 0x0000020F91723F00>\n"
     ]
    }
   ],
   "source": [
    "print(zip([1,2,3,4,5,6], [0,9,8,7,6,5,4,3,2,1]))"
   ]
  },
  {
   "cell_type": "code",
   "execution_count": 6,
   "metadata": {},
   "outputs": [
    {
     "name": "stdout",
     "output_type": "stream",
     "text": [
      "<zip object at 0x0000020F91723100>\n"
     ]
    }
   ],
   "source": [
    "A = [1,2,3]\n",
    "B = [6,5,4]\n",
    "C = [7,8,9]\n",
    "X = [A]+[B]+[C]\n",
    "print(zip(*X))"
   ]
  },
  {
   "cell_type": "markdown",
   "metadata": {},
   "source": [
    "#### Task :\n",
    "The National University conducts an examination of  N students in X subjects.\n",
    "Your task is to compute the average scores of each student."
   ]
  },
  {
   "cell_type": "markdown",
   "metadata": {},
   "source": [
    "#### Input Format :\n",
    "The first line contains N and X separated by a space.\n",
    "\n",
    "The next X lines contains the space separated marks obtained by students in a particular subject."
   ]
  },
  {
   "cell_type": "markdown",
   "metadata": {},
   "source": [
    "#### Output Format :\n",
    "Print the averages of all students on separate lines.\n",
    "\n",
    "The averages must be correct up to 1 decimal place."
   ]
  },
  {
   "cell_type": "code",
   "execution_count": 7,
   "metadata": {},
   "outputs": [
    {
     "name": "stdout",
     "output_type": "stream",
     "text": [
      "5 3\n",
      "89 90 78 93 80\n",
      "90 91 85 86 88\n",
      "90 91 92 83 85.5\n",
      "89.66666666666667\n",
      "90.66666666666667\n",
      "85.0\n",
      "87.33333333333333\n",
      "84.5\n"
     ]
    }
   ],
   "source": [
    "N, X = input().split()\n",
    "io = list()\n",
    "for _ in range(int(X)):\n",
    "    ip = map(float, input().split())\n",
    "    io.append(ip)\n",
    "for i in zip(*io):\n",
    "    print(sum(i)/len(i))"
   ]
  },
  {
   "cell_type": "code",
   "execution_count": null,
   "metadata": {},
   "outputs": [],
   "source": []
  }
 ],
 "metadata": {
  "kernelspec": {
   "display_name": "Python 3",
   "language": "python",
   "name": "python3"
  },
  "language_info": {
   "codemirror_mode": {
    "name": "ipython",
    "version": 3
   },
   "file_extension": ".py",
   "mimetype": "text/x-python",
   "name": "python",
   "nbconvert_exporter": "python",
   "pygments_lexer": "ipython3",
   "version": "3.8.5"
  }
 },
 "nbformat": 4,
 "nbformat_minor": 4
}
