{
 "cells": [
  {
   "cell_type": "markdown",
   "metadata": {},
   "source": [
    "#### problem\n",
    "You are given a function f(x) = x^2. You are also given k lists. The ith list consists of Ni elements. You have to pick one element from each list so that the value from the equation below is maximized:\n",
    "\n",
    "S = ( f(X1) + f(X2) + ……+ f(Xk))%M\n",
    "Xi denotes the element picked from the ith list . Find the maximized value Smax obtained. % denotes the modulo operator.\n",
    "Note that you need to take exactly one element from each list, not necessarily the largest element. You add the squares of the chosen elements and perform the modulo operation. The maximum value that you can obtain, will be the answer to the problem."
   ]
  },
  {
   "cell_type": "markdown",
   "metadata": {},
   "source": [
    "#### Input Format :\n",
    "The first line contains 2 space separated integers k and m.\n",
    "The next k lines each contains an integer Ni, denoting the number of elements in the ith list, followed by Ni space separated integers denoting the elements in the list."
   ]
  },
  {
   "cell_type": "markdown",
   "metadata": {},
   "source": [
    "#### Output Format :\n",
    "Output a single integer denoting the value Smax."
   ]
  },
  {
   "cell_type": "code",
   "execution_count": 1,
   "metadata": {},
   "outputs": [],
   "source": [
    "# Sample Input :\n",
    "#3 1000\n",
    "#2 5 4\n",
    "#3 7 8 9\n",
    "#5 5 7 8 9 10\n",
    "# Sample Output :\n",
    "#206\n",
    "# Explanation :\n",
    "#Picking 5 from the 1st list, 9 from the 2nd list and 10 from the 3rd list gives the maximum S value equal to (5^2 + 9^2 + 10^2)%1000 =206."
   ]
  },
  {
   "cell_type": "code",
   "execution_count": null,
   "metadata": {},
   "outputs": [
    {
     "name": "stdout",
     "output_type": "stream",
     "text": [
      "3 1000\n"
     ]
    }
   ],
   "source": [
    "from itertools import product\n",
    "k, m = map(int, input().split())\n",
    "array = []\n",
    "for _ in range(k):\n",
    "    array.append(list(map(int, input().split()))[1:])\n",
    "result = 0\n",
    "for combination in product(*array):\n",
    "    result = max(sum([x*x for x in combination])%m, result)\n",
    "print(result)"
   ]
  },
  {
   "cell_type": "code",
   "execution_count": null,
   "metadata": {},
   "outputs": [],
   "source": []
  }
 ],
 "metadata": {
  "kernelspec": {
   "display_name": "Python 3",
   "language": "python",
   "name": "python3"
  },
  "language_info": {
   "codemirror_mode": {
    "name": "ipython",
    "version": 3
   },
   "file_extension": ".py",
   "mimetype": "text/x-python",
   "name": "python",
   "nbconvert_exporter": "python",
   "pygments_lexer": "ipython3",
   "version": "3.8.5"
  }
 },
 "nbformat": 4,
 "nbformat_minor": 4
}
