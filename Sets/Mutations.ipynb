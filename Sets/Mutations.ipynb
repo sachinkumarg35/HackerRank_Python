{
 "cells": [
  {
   "cell_type": "markdown",
   "metadata": {},
   "source": [
    "#### Task\n",
    "You are given a set A and N number of other sets. These N number of sets have to perform some specific mutation operations on set A.\n",
    "\n",
    "Your task is to execute those operations and print the sum of elements from set A.\n",
    "\n",
    "#### Input Format\n",
    "1. The first line contains the number of elements in set A.\n",
    "2. The second line contains the space separated list of elements in set A.\n",
    "3. The third line contains integer N, the number of other sets.\n",
    "4. The next 2 * N lines are divided into N parts containing two lines each.\n",
    "5. The first line of each part contains the space separated entries of the operation name and the length of the other set.\n",
    "6. The second line of each part contains space separated list of elements in the other set.\n",
    "0 < len(set(A)) < 1000\n",
    "0 <  len(otherSets) < 100\n",
    "0 < N < 100"
   ]
  },
  {
   "cell_type": "code",
   "execution_count": 3,
   "metadata": {},
   "outputs": [
    {
     "name": "stdout",
     "output_type": "stream",
     "text": [
      "16\n",
      "1 2 3 4 5 6 7 8 9 10 11 12 13 14 24 52\n",
      "4\n",
      "intersection_update 10\n",
      "2 3 5 6 8 9 1 4 7 11\n",
      "update 2\n",
      "55 66\n",
      "symmetric_difference_update 5\n",
      "22 7 35 62 58\n",
      "difference_update 7\n",
      "11 22 35 55 58 62 66\n",
      "38\n"
     ]
    }
   ],
   "source": [
    "A = int(input())\n",
    "SET_A = set(map(int, input().split()))\n",
    "N = int(input())\n",
    "\n",
    "for _ in range(N):\n",
    "    operation = input().split()\n",
    "    new_set = set(map(int, input().split()))\n",
    "    eval('SET_A.{}({})'.format(operation[0], new_set))\n",
    "    \n",
    "print(sum(SET_A))"
   ]
  },
  {
   "cell_type": "code",
   "execution_count": null,
   "metadata": {},
   "outputs": [],
   "source": []
  }
 ],
 "metadata": {
  "kernelspec": {
   "display_name": "Python 3",
   "language": "python",
   "name": "python3"
  },
  "language_info": {
   "codemirror_mode": {
    "name": "ipython",
    "version": 3
   },
   "file_extension": ".py",
   "mimetype": "text/x-python",
   "name": "python",
   "nbconvert_exporter": "python",
   "pygments_lexer": "ipython3",
   "version": "3.8.5"
  }
 },
 "nbformat": 4,
 "nbformat_minor": 4
}
