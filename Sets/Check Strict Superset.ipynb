{
 "cells": [
  {
   "cell_type": "markdown",
   "metadata": {},
   "source": [
    "#### Task\n",
    "1. You are given a set A and n other sets.\n",
    "2. Your job is to find whether set A is a strict superset of each of the N sets.\n",
    "\n",
    "Print True, if A is a strict superset of each of the N sets. Otherwise, print False.\n",
    "\n",
    "A strict superset has at least one element that does not exist in its subset.\n",
    "\n",
    "#### Example\n",
    "1. Set ([1, 3, 4]) is a strict superset of set ([1, 3]).\n",
    "2. Set ([1, 3, 4]) is not a strict superset of set ([1, 3, 4]).\n",
    "3. Set ([1, 3, 4]) is not a strict superset of set ([1, 3, 5]).\n",
    "\n",
    "#### Input Format\n",
    "1. The first line contains the space separated elements of set A.\n",
    "2. The second line contains integer n, the number of other sets.\n",
    "3. The next n lines contains the space separated elements of the other sets.\n",
    "\n"
   ]
  },
  {
   "cell_type": "code",
   "execution_count": 2,
   "metadata": {},
   "outputs": [
    {
     "name": "stdout",
     "output_type": "stream",
     "text": [
      "1 2 3 4 5 6 7 8 9 10 11 12 13 14 15 16 17 18\n",
      "5\n",
      "1 2 3 4 5\n",
      "1 2 3\n",
      "12\n",
      "1\n",
      "110 1201 130\n",
      "False\n"
     ]
    }
   ],
   "source": [
    "A = set(input().split())\n",
    "count = 0\n",
    "value = 0\n",
    "\n",
    "for i in range(int(input())):\n",
    "    if A.issuperset(set(input().split())):\n",
    "        count += 1\n",
    "    else:\n",
    "        value += 1\n",
    "if value != 0:\n",
    "    print(\"False\")\n",
    "else:\n",
    "    print(\"True\")"
   ]
  },
  {
   "cell_type": "code",
   "execution_count": null,
   "metadata": {},
   "outputs": [],
   "source": []
  }
 ],
 "metadata": {
  "kernelspec": {
   "display_name": "Python 3",
   "language": "python",
   "name": "python3"
  },
  "language_info": {
   "codemirror_mode": {
    "name": "ipython",
    "version": 3
   },
   "file_extension": ".py",
   "mimetype": "text/x-python",
   "name": "python",
   "nbconvert_exporter": "python",
   "pygments_lexer": "ipython3",
   "version": "3.8.5"
  }
 },
 "nbformat": 4,
 "nbformat_minor": 4
}
