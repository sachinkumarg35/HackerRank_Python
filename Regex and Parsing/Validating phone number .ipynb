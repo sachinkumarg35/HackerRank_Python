{
 "cells": [
  {
   "cell_type": "markdown",
   "metadata": {},
   "source": [
    "#### problem\n",
    "Let’s dive into the interesting topic of regular expressions! You are given some input, and you are required to check whether they are valid mobile numbers.\n",
    "\n",
    "A valid mobile number is a ten digit number starting with a 7, 8 or 9.\n",
    "\n",
    "Concept :A valid mobile number is a ten digit number starting with a 7, 8 or 9.\n",
    "\n",
    "Regular expressions are a key concept in any programming language. A quick explanation with Python examples is available here.\n",
    "\n",
    "You could also go through the link below to read more about regular expressions in Python.\n",
    "https://developers.google.com/edu/python/regular-expressions"
   ]
  },
  {
   "cell_type": "markdown",
   "metadata": {},
   "source": [
    "#### Input Format :\n",
    "The first line contains an integer N, the number of inputs.\n",
    "\n",
    "N lines follow, each containing some string.\n",
    "\n",
    "#### Constraints :\n",
    "1 <= N <= 10\n",
    "\n",
    "2 <= len(number) <= 15\n",
    "\n",
    "#### Output Format :\n",
    "For every string listed, print “YES” if it is a valid mobile number and “NO” if it is not on separate lines. Do not print the quotes."
   ]
  },
  {
   "cell_type": "code",
   "execution_count": 4,
   "metadata": {},
   "outputs": [
    {
     "name": "stdout",
     "output_type": "stream",
     "text": [
      "2\n",
      "9587456281\n",
      "YES\n",
      "1252478965\n",
      "NO\n"
     ]
    }
   ],
   "source": [
    "import re\n",
    "N = int(input())\n",
    "for i in range(N):\n",
    "    number = input()\n",
    "    if(len(number)==10 and number.isdigit()):\n",
    "        output = re.findall(r\"^[789]\\d{9}$\", number)\n",
    "        if(len(output)==1):\n",
    "            print(\"YES\")\n",
    "        else:\n",
    "            print(\"NO\")\n",
    "    else:\n",
    "        print(\"NO\")"
   ]
  },
  {
   "cell_type": "code",
   "execution_count": null,
   "metadata": {},
   "outputs": [],
   "source": []
  }
 ],
 "metadata": {
  "kernelspec": {
   "display_name": "Python 3",
   "language": "python",
   "name": "python3"
  },
  "language_info": {
   "codemirror_mode": {
    "name": "ipython",
    "version": 3
   },
   "file_extension": ".py",
   "mimetype": "text/x-python",
   "name": "python",
   "nbconvert_exporter": "python",
   "pygments_lexer": "ipython3",
   "version": "3.8.5"
  }
 },
 "nbformat": 4,
 "nbformat_minor": 4
}
