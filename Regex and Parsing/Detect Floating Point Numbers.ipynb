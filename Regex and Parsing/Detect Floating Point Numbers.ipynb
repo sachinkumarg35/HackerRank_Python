{
 "cells": [
  {
   "cell_type": "markdown",
   "metadata": {},
   "source": [
    "#### problem\n",
    "re\n",
    "\n",
    "A regular expression (or RegEx) specifies a set of strings that matches it.\n",
    "\n",
    "A regex is a sequence of characters that defines a search pattern, mainly for the use of string pattern matching.\n",
    "\n",
    "The re.search() expression scans through a string looking for the first location where the regex pattern produces a match.\n",
    "\n",
    "It either returns a MatchObject instance or returns None if no position in the string matches the pattern."
   ]
  },
  {
   "cell_type": "code",
   "execution_count": 1,
   "metadata": {},
   "outputs": [
    {
     "name": "stdout",
     "output_type": "stream",
     "text": [
      "True\n"
     ]
    }
   ],
   "source": [
    "import re\n",
    "print(bool(re.search(r\"ly\", \"similarly\")))"
   ]
  },
  {
   "cell_type": "markdown",
   "metadata": {},
   "source": [
    "The re.match() expression only matches at the beginning of the string.\n",
    "\n",
    "It either returns a MatchObject instance or returns None if the string does not match the pattern."
   ]
  },
  {
   "cell_type": "markdown",
   "metadata": {},
   "source": [
    "#### Code:"
   ]
  },
  {
   "cell_type": "code",
   "execution_count": 2,
   "metadata": {},
   "outputs": [
    {
     "name": "stdout",
     "output_type": "stream",
     "text": [
      "False\n"
     ]
    }
   ],
   "source": [
    "import re\n",
    "print(bool(re.match(r\"ly\", \"similarly\")))"
   ]
  },
  {
   "cell_type": "code",
   "execution_count": 3,
   "metadata": {},
   "outputs": [
    {
     "name": "stdout",
     "output_type": "stream",
     "text": [
      "True\n"
     ]
    }
   ],
   "source": [
    "print(bool(re.match(r\"ly\", \"ly should be in the begining.\")))"
   ]
  },
  {
   "cell_type": "markdown",
   "metadata": {},
   "source": [
    "You are given a string N.\n",
    "\n",
    "Your task is to verify that N is a floating point number.\n",
    "\n",
    "In this task, a valid float number must satisfy all of the following requirements:> Number can start with +, – or . symbol.\n",
    "\n",
    "    For example:\n",
    "    ✔+4.50\n",
    "    ✔-1.0\n",
    "    ✔.5\n",
    "    ✔-.7\n",
    "    ✔+.4\n",
    "    ✖ -+4.5\n",
    "> Number must contain at least  decimal value.\n",
    "\n",
    "For example:\n",
    "\n",
    "✖ 12.\n",
    "\n",
    "✔12.0 \n",
    "> Number must have exactly one . symbol.\n",
    "\n",
    "> Number must not give any exceptions when converted using float(N)."
   ]
  },
  {
   "cell_type": "markdown",
   "metadata": {},
   "source": [
    "#### Input Format :\n",
    "The first line contains an integer T, the number of test cases.\n",
    "\n",
    "The next T line(s) contains a string N.\n",
    "\n",
    "#### Constraints :\n",
    "0 < T < N\n",
    "#### Output Format :\n",
    "Output True or False for each test case."
   ]
  },
  {
   "cell_type": "code",
   "execution_count": 5,
   "metadata": {},
   "outputs": [
    {
     "name": "stdout",
     "output_type": "stream",
     "text": [
      "4\n",
      "4.0O0\n",
      "False\n",
      "-1.00\n",
      "True\n",
      "+4.54\n",
      "True\n",
      "SomeRandomStuff\n",
      "False\n"
     ]
    }
   ],
   "source": [
    "import re\n",
    "class Main():\n",
    "    def __init__(self):\n",
    "        self.n = int(input())\n",
    "        for i in range(self.n):\n",
    "            self.s = input()\n",
    "            print(bool(re.match(r'^[-+]?[0-9]*\\.[0-9]+$', self.s)))\n",
    "if __name__ == '__main__':\n",
    "    obj = Main()"
   ]
  },
  {
   "cell_type": "code",
   "execution_count": null,
   "metadata": {},
   "outputs": [],
   "source": []
  }
 ],
 "metadata": {
  "kernelspec": {
   "display_name": "Python 3",
   "language": "python",
   "name": "python3"
  },
  "language_info": {
   "codemirror_mode": {
    "name": "ipython",
    "version": 3
   },
   "file_extension": ".py",
   "mimetype": "text/x-python",
   "name": "python",
   "nbconvert_exporter": "python",
   "pygments_lexer": "ipython3",
   "version": "3.8.5"
  }
 },
 "nbformat": 4,
 "nbformat_minor": 4
}
