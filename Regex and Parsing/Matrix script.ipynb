{
 "cells": [
  {
   "cell_type": "markdown",
   "metadata": {},
   "source": [
    "#### problem\n",
    "Neo has a complex matrix script. The matrix script is a N X M grid of strings. It consists of alphanumeric characters, spaces and symbols (!,@,#,$,%,&)."
   ]
  },
  {
   "cell_type": "markdown",
   "metadata": {},
   "source": [
    "To decode the script, Neo needs to read each column and select only the alphanumeric characters and connect them. Neo reads the column from top to bottom and starts reading from the leftmost column.\n",
    "If there are symbols or spaces between two alphanumeric characters of the decoded script, then Neo replaces them with a single space ” for better readability.\n",
    "\n",
    "Neo feels that there is no need to use ‘if’ conditions for decoding.\n",
    "\n",
    "Alphanumeric characters consist of: [A-Z, a-z, and 0-9]."
   ]
  },
  {
   "cell_type": "markdown",
   "metadata": {},
   "source": [
    "#### Input Format :\n",
    "The first line contains space-separated integers N (rows) and M (columns) respectively.\n",
    "\n",
    "The next N lines contain the row elements of the matrix script.\n",
    "\n",
    "#### Constraints :\n",
    "0 < N\n",
    "\n",
    "M < 100\n",
    "\n",
    "Note: A 0 score will be awarded for using ‘if’ conditions in your code.\n",
    "\n",
    "#### Output Format :\n",
    "Print the decoded matrix script."
   ]
  },
  {
   "cell_type": "code",
   "execution_count": 3,
   "metadata": {},
   "outputs": [
    {
     "name": "stdout",
     "output_type": "stream",
     "text": [
      "7 3\n",
      "Tsi\n",
      "h%x\n",
      "i#\n",
      "sM\n",
      "$a\n",
      "#t%\n",
      "ir!\n",
      "This is Matr\n"
     ]
    }
   ],
   "source": [
    "import re\n",
    "first_multiple_input = input().rstrip().split()\n",
    "n = int(first_multiple_input[0])\n",
    "m = int(first_multiple_input[1])\n",
    "matrix = []\n",
    "for _ in range(n):\n",
    "    matrix_item = input()\n",
    "    matrix.append(matrix_item)\n",
    "matrix = list(zip(*matrix))\n",
    "sample = str()\n",
    "for words in matrix:\n",
    "    for char in words:\n",
    "        sample += char\n",
    "print(re.sub(r'(?<=\\w)([^\\w\\d]+)(?=\\w)', ' ', sample))"
   ]
  },
  {
   "cell_type": "code",
   "execution_count": null,
   "metadata": {},
   "outputs": [],
   "source": []
  }
 ],
 "metadata": {
  "kernelspec": {
   "display_name": "Python 3",
   "language": "python",
   "name": "python3"
  },
  "language_info": {
   "codemirror_mode": {
    "name": "ipython",
    "version": 3
   },
   "file_extension": ".py",
   "mimetype": "text/x-python",
   "name": "python",
   "nbconvert_exporter": "python",
   "pygments_lexer": "ipython3",
   "version": "3.8.5"
  }
 },
 "nbformat": 4,
 "nbformat_minor": 4
}
