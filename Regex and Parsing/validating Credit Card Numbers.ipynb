{
 "cells": [
  {
   "cell_type": "markdown",
   "metadata": {},
   "source": [
    "#### problem\n",
    "You and Fredrick are good friends. Yesterday, Fredrick received N credit cards from ABCD Bank. He wants to verify whether his credit card numbers are valid or not. You happen to be great at regex so he is asking for your help!A valid credit card from ABCD Bank has the following characteristics:\n",
    "\n",
    "► It must start with a 4, 5 or 6.\n",
    "\n",
    "► It must contain exactly 16 digits.\n",
    "\n",
    "► It must only consist of digits (0-9).\n",
    "\n",
    "► It may have digits in groups of 4, separated by one hyphen “-“.\n",
    "\n",
    "► It must NOT use any other separator like ‘ ‘ , ‘_’, etc.\n",
    "\n",
    "► It must NOT have 4 or more consecutive repeated digits. "
   ]
  },
  {
   "cell_type": "markdown",
   "metadata": {},
   "source": [
    "#### Input Format :\n",
    "The first line of input contains an integer N.\n",
    "\n",
    "The next N lines contain credit card numbers  \n",
    "\n",
    "#### Constraints :\n",
    "0 < N < 100\n",
    "\n",
    "#### Output Format :\n",
    "Print ‘Valid’ if the credit card number is valid. Otherwise, print ‘Invalid’. Do not print the quotes."
   ]
  },
  {
   "cell_type": "markdown",
   "metadata": {},
   "source": [
    "#### Explanation :\n",
    "4123456789123456 : Valid\n",
    "\n",
    "5123-4567-8912-3456 : Valid\n",
    "\n",
    "61234-576-8912-3456 : Invalid, because the card number is not divided into equal groups of 4.\n",
    "\n",
    "4123356789123456 : Valid\n",
    "\n",
    "5133-3367-8912-3456 : Invalid, consecutive digits 3333 is repeating 4 times.\n",
    "\n",
    "5123 – 4567 – 8912 – 3456 : Invalid, because space ‘  ‘ and - are used as separators."
   ]
  },
  {
   "cell_type": "code",
   "execution_count": null,
   "metadata": {},
   "outputs": [],
   "source": [
    "import re\n",
    "for i in range(int(input())):\n",
    "    N = input().strip()\n",
    "    if N.isalnum() and len(N) == 10:\n",
    "        if bool(re.search(r'(.*[A-Z]){2,}',N)) and bool(re.search(r'(.*[0-9]){3,}',N)):\n",
    "            if re.search(r'.*(.).*\\1+.*',N):\n",
    "                print('Invalid')\n",
    "            else:\n",
    "                print('Valid')\n",
    "        else:\n",
    "            print('Invalid')\n",
    "    else:\n",
    "        print('Invalid')"
   ]
  },
  {
   "cell_type": "code",
   "execution_count": null,
   "metadata": {},
   "outputs": [],
   "source": []
  }
 ],
 "metadata": {
  "kernelspec": {
   "display_name": "Python 3",
   "language": "python",
   "name": "python3"
  },
  "language_info": {
   "codemirror_mode": {
    "name": "ipython",
    "version": 3
   },
   "file_extension": ".py",
   "mimetype": "text/x-python",
   "name": "python",
   "nbconvert_exporter": "python",
   "pygments_lexer": "ipython3",
   "version": "3.8.5"
  }
 },
 "nbformat": 4,
 "nbformat_minor": 4
}
