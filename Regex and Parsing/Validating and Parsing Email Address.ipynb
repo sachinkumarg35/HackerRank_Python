{
 "cells": [
  {
   "cell_type": "markdown",
   "metadata": {},
   "source": [
    "#### problem\n",
    "A valid email address meets the following criteria:\n",
    "\n",
    "It’s composed of a username, domain name, and extension assembled in this format: username@domain.extension\n",
    "\n",
    "The username starts with an English alphabetical character, and any subsequent characters consist of one or more of the\n",
    "\n",
    "following: alphanumeric characters, -,., and _.\n",
    "\n",
    "The domain and extension contain only English alphabetical characters.\n",
    "\n",
    "The extension is 1, 2, or 3 characters in length.\n",
    "\n",
    "Given n pairs of names and email addresses as input, print each name and email address pair having a valid email address on a new line.\n",
    "\n",
    "Hint : Try using Email.utils() to complete this challenge. For example, this code:"
   ]
  },
  {
   "cell_type": "code",
   "execution_count": 2,
   "metadata": {},
   "outputs": [
    {
     "name": "stdout",
     "output_type": "stream",
     "text": [
      "('DOSHI', 'DOSHI@hackerrank.com')\n",
      "DOSHI <DOSHI@hackerrank.com>\n"
     ]
    }
   ],
   "source": [
    "import email.utils\n",
    "print(email.utils.parseaddr('DOSHI <DOSHI@hackerrank.com>'))\n",
    "print(email.utils.formataddr(('DOSHI', 'DOSHI@hackerrank.com')))"
   ]
  },
  {
   "cell_type": "markdown",
   "metadata": {},
   "source": [
    "#### Input Format :\n",
    "The first line contains a single integer, n, denoting the number of email address.\n",
    "\n",
    "Each line i of the n subsequent lines contains a name and an email address as two space-separated values following this format:\n",
    "\n",
    "name <user@email.com>"
   ]
  },
  {
   "cell_type": "markdown",
   "metadata": {},
   "source": [
    "#### Constraints :\n",
    "0 < N < 100\n",
    "\n",
    "#### Output Format :\n",
    "Print the space-separated name and email address pairs containing valid email addresses only. Each pair must be printed on a new line in the following format:\n",
    "\n",
    "name <user@email.com>\n",
    "\n",
    "You must print each valid email address in the same order as it was received as input."
   ]
  },
  {
   "cell_type": "markdown",
   "metadata": {},
   "source": [
    "#### Explanation :\n",
    "dexter@hotmail.com is a valid email address, so we print the name and email address pair received as input on a new line.\n",
    "\n",
    "virus!@variable.:p is not a valid email address because the username contains an exclamation point (!) and the extension contains a colon (:). As this email is not valid, we print nothing."
   ]
  },
  {
   "cell_type": "code",
   "execution_count": 3,
   "metadata": {},
   "outputs": [
    {
     "name": "stdout",
     "output_type": "stream",
     "text": [
      "2\n",
      "DEXTER <dexter@hotmail.com>\n",
      "DEXTER <dexter@hotmail.com>\n",
      "VIRUS <virus!@variable.:p>\n"
     ]
    }
   ],
   "source": [
    "import re\n",
    "N = int(input())\n",
    "for i in range(N):\n",
    "    name, email = input().split()\n",
    "    pattern = \"<[a-z][a-zA-Z0-9\\-\\.\\_]+@[a-zA-Z]+\\.[a-zA-Z]{1,3}>\"\n",
    "    if bool(re.match(pattern, email)):\n",
    "        print(name, email)"
   ]
  },
  {
   "cell_type": "code",
   "execution_count": null,
   "metadata": {},
   "outputs": [],
   "source": []
  }
 ],
 "metadata": {
  "kernelspec": {
   "display_name": "Python 3",
   "language": "python",
   "name": "python3"
  },
  "language_info": {
   "codemirror_mode": {
    "name": "ipython",
    "version": 3
   },
   "file_extension": ".py",
   "mimetype": "text/x-python",
   "name": "python",
   "nbconvert_exporter": "python",
   "pygments_lexer": "ipython3",
   "version": "3.8.5"
  }
 },
 "nbformat": 4,
 "nbformat_minor": 4
}
