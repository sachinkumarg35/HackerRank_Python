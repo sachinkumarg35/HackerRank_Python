{
 "cells": [
  {
   "cell_type": "markdown",
   "metadata": {},
   "source": [
    "#### problem\n",
    "ABCXYZ company has up to 100 employees.\n",
    "\n",
    "The company decides to create a unique identification number (UID) for each of its employees.\n",
    "\n",
    "The company has assigned you the task of validating all the randomly generated UIDs.A valid UID must follow the rules below:\n",
    "\n",
    "1. It must contain at least 2 uppercase English alphabet characters.\n",
    "2. It must contain at least 3 digits ( 0 – 9).\n",
    "3. It should only contain alphanumeric characters ( a – z, A – Z & 0 – 9).\n",
    "4. No character should repeat.\n",
    "5. There must be exactly 10 characters in a valid UID."
   ]
  },
  {
   "cell_type": "markdown",
   "metadata": {},
   "source": [
    "#### Input Format :\n",
    "The first line contains an integer T, the number of test cases.\n",
    "The next T lines contains an employee’s UID.\n",
    "\n",
    "#### Output Format :\n",
    "For each test case, print ‘Valid’ if the UID is valid. Otherwise, print ‘Invalid’, on separate lines. Do not print the quotation marks."
   ]
  },
  {
   "cell_type": "markdown",
   "metadata": {},
   "source": [
    "#### Explanation :\n",
    "B1CD102354: 1 is repeating → Invalid\n",
    "\n",
    "B1CDEF2354: Valid "
   ]
  },
  {
   "cell_type": "code",
   "execution_count": 1,
   "metadata": {},
   "outputs": [
    {
     "name": "stdout",
     "output_type": "stream",
     "text": [
      "2\n",
      "B1CD102354\n",
      "Invalid\n",
      "B1CDEF2354\n",
      "Valid\n"
     ]
    }
   ],
   "source": [
    "import re\n",
    "for i in range(int(input())):\n",
    "    N = input().strip()\n",
    "    if N.isalnum() and len(N) == 10:\n",
    "        if bool(re.search(r'(.*[A-Z]){2,}', N)) and bool(re.search('(.*[0-9]){3,}', N)):\n",
    "            if re.search(r'.*(.).*\\1+.*',N):\n",
    "                print(\"Invalid\")\n",
    "            else:\n",
    "                print(\"Valid\")\n",
    "        else:\n",
    "            print(\"Invalid\")\n",
    "    else:\n",
    "        print(\"Invalid\")"
   ]
  },
  {
   "cell_type": "code",
   "execution_count": null,
   "metadata": {},
   "outputs": [],
   "source": []
  }
 ],
 "metadata": {
  "kernelspec": {
   "display_name": "Python 3",
   "language": "python",
   "name": "python3"
  },
  "language_info": {
   "codemirror_mode": {
    "name": "ipython",
    "version": 3
   },
   "file_extension": ".py",
   "mimetype": "text/x-python",
   "name": "python",
   "nbconvert_exporter": "python",
   "pygments_lexer": "ipython3",
   "version": "3.8.5"
  }
 },
 "nbformat": 4,
 "nbformat_minor": 4
}
