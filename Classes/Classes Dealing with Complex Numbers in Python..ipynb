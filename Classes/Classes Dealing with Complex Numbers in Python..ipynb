{
 "cells": [
  {
   "cell_type": "markdown",
   "metadata": {},
   "source": [
    "#### problem\n",
    "For this challenge, you are given two complex numbers, and you have to print the result of their addition, subtraction, multiplication, division and modulus operations.\n",
    "The real and imaginary precision part should be correct up to two decimal places."
   ]
  },
  {
   "cell_type": "markdown",
   "metadata": {},
   "source": [
    "##### Input Format :\n",
    "One line of input: The real and imaginary part of a number separated by a space.\n",
    "\n",
    "#### Output Format :\n",
    "For two complex numbers C and D, the output should be in the following sequence on separate lines:\n",
    "\n",
    "1. C + D\n",
    "2. C – D\n",
    "3. C * D\n",
    "4. C / D\n",
    "5. Mod(C)\n",
    "6. Mod(D)\n",
    "\n",
    "For complex numbers with non-zero real (A) and complex part (B), the output should be in the following format:\n",
    "    \n",
    "A + Bi\n",
    "\n",
    "Replace the plus symbol (+) with a minus symbol (-) when B < 0.\n",
    "\n",
    "For complex numbers with a zero complex part i.e. real numbers, the output should be:A + 0.00i\n",
    "    \n",
    "For complex numbers where the real part is zero and the complex part is non-zero, the output should be:0.00 + Bi"
   ]
  },
  {
   "cell_type": "code",
   "execution_count": 3,
   "metadata": {},
   "outputs": [
    {
     "name": "stdout",
     "output_type": "stream",
     "text": [
      "2 1\n",
      "5 6\n",
      "7.00+7.00i\n",
      "-3.00-5.00i\n",
      "4.00+17.00i\n",
      "0.26-0.11i\n",
      "2.24+0.00i\n",
      "7.81+0.00i\n"
     ]
    }
   ],
   "source": [
    "import math\n",
    "class Complex(object):\n",
    "    def __init__(self, real, imaginary):\n",
    "        self.real = real\n",
    "        self.imaginary = imaginary\n",
    "    def __add__(self, no):\n",
    "        a = self.real\n",
    "        b = self.imaginary\n",
    "        c = no.real\n",
    "        d = no.imaginary\n",
    "        return Complex(a + c, b + d)\n",
    "    def __sub__(self, no):\n",
    "        a = self.real\n",
    "        b = self.imaginary\n",
    "        c = no.real\n",
    "        d = no.imaginary\n",
    "        return Complex(a - c, b - d)\n",
    "    def __mul__(self, no):\n",
    "        a = self.real\n",
    "        b = self.imaginary\n",
    "        c = no.real\n",
    "        d = no.imaginary\n",
    "        real_mult = (a * c) - (b * d)\n",
    "        imag_mult = (a * d) + (b * c)\n",
    "        return Complex(real_mult, imag_mult)\n",
    "    def __truediv__(self, no):\n",
    "        a = self.real\n",
    "        b = self.imaginary\n",
    "        c = no.real\n",
    "        d = no.imaginary\n",
    "        real_numerator = a * c + b * d\n",
    "        imag_numerator = b * c - a * d\n",
    "        denom = c * c + d * d\n",
    "        real_div = real_numerator / denom\n",
    "        imag_div = imag_numerator / denom\n",
    "        return Complex(real_div, imag_div)\n",
    "    def mod(self):\n",
    "        a = self.real\n",
    "        b = self.imaginary\n",
    "        return Complex(math.sqrt(a ** 2 + b ** 2), 0)\n",
    "    def __str__(self):\n",
    "        if self.imaginary == 0:\n",
    "            result = '%.2f+0.00i' % (self.real)\n",
    "        elif self.real == 0:\n",
    "            if self.imaginary >= 0:\n",
    "                result = '0.00+%.2fi' % (self.imaginary)\n",
    "            else:\n",
    "                result = '0.00-%.2fi' % (abs(self.imaginary))\n",
    "        elif self.imaginary > 0:\n",
    "            result = '%.2f+%.2fi' % (self.real, self.imaginary)\n",
    "        else:\n",
    "            result = '%.2f-%.2fi' % (self.real, abs(self.imaginary))\n",
    "        return result\n",
    "if __name__ == '__main__':\n",
    "    c = map(float, input().split())\n",
    "    d = map(float, input().split())\n",
    "    x = Complex(*c)\n",
    "    y = Complex(*d)\n",
    "    print(*map(str, [x+y, x-y, x*y, x/y, x.mod(), y.mod()]), sep='\\n')"
   ]
  },
  {
   "cell_type": "code",
   "execution_count": null,
   "metadata": {},
   "outputs": [],
   "source": []
  }
 ],
 "metadata": {
  "kernelspec": {
   "display_name": "Python 3",
   "language": "python",
   "name": "python3"
  },
  "language_info": {
   "codemirror_mode": {
    "name": "ipython",
    "version": 3
   },
   "file_extension": ".py",
   "mimetype": "text/x-python",
   "name": "python",
   "nbconvert_exporter": "python",
   "pygments_lexer": "ipython3",
   "version": "3.8.5"
  }
 },
 "nbformat": 4,
 "nbformat_minor": 4
}
