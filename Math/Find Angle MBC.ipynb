{
 "cells": [
  {
   "cell_type": "markdown",
   "metadata": {},
   "source": [
    "#### Problem\n",
    "ABC is a right triangle, 90 at B.\n",
    "\n",
    "Therefore, angle ABC = 90.\n",
    "\n",
    "Point M is the midpoint of hypotenuse AC.\n",
    "\n",
    "You are given the lengths AB and BC.\n",
    "Your task is to find angle MBC (angle θ, as shown in the figure) in degrees.\n",
    "\n",
    "#### Input Format\n",
    "The first line contains the length of side AB.\n",
    "The second line contains the length of side BC."
   ]
  },
  {
   "cell_type": "code",
   "execution_count": 1,
   "metadata": {},
   "outputs": [
    {
     "name": "stdout",
     "output_type": "stream",
     "text": [
      "10\n",
      "10\n",
      "45°\n"
     ]
    }
   ],
   "source": [
    "import math\n",
    "\n",
    "ab = int(input())\n",
    "bc = int(input())\n",
    "\n",
    "ca = math.hypot(ab, bc)\n",
    "mc = ca/2\n",
    "bca = math.asin(1*ab/ca)\n",
    "bm = math.sqrt((bc**2+mc**2)-(2*bc*mc*math.cos(bca)))\n",
    "mbc = math.asin(math.sin(bca)*mc/bm)\n",
    "\n",
    "print(int(round(math.degrees(mbc), 0)), '\\u00B0', sep='')"
   ]
  },
  {
   "cell_type": "code",
   "execution_count": null,
   "metadata": {},
   "outputs": [],
   "source": []
  },
  {
   "cell_type": "code",
   "execution_count": null,
   "metadata": {},
   "outputs": [],
   "source": []
  }
 ],
 "metadata": {
  "kernelspec": {
   "display_name": "Python 3",
   "language": "python",
   "name": "python3"
  },
  "language_info": {
   "codemirror_mode": {
    "name": "ipython",
    "version": 3
   },
   "file_extension": ".py",
   "mimetype": "text/x-python",
   "name": "python",
   "nbconvert_exporter": "python",
   "pygments_lexer": "ipython3",
   "version": "3.8.5"
  }
 },
 "nbformat": 4,
 "nbformat_minor": 4
}
