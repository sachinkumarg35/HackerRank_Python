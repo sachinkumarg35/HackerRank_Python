{
 "cells": [
  {
   "cell_type": "markdown",
   "metadata": {},
   "source": [
    "Problem\n",
    "In Python, a string of text can be aligned left, right and center.\n",
    "\n",
    "Task\n",
    "You are given a partial code that is used for generating the HackerRank Logo of variable thickness.\n",
    "Your task is to replace the blank (______) with rjust, ljust or center."
   ]
  },
  {
   "cell_type": "code",
   "execution_count": 7,
   "metadata": {},
   "outputs": [
    {
     "name": "stdout",
     "output_type": "stream",
     "text": [
      "8\n",
      "       H       \n",
      "      HHH      \n",
      "     HHHHH     \n",
      "    HHHHHHH    \n",
      "   HHHHHHHHH   \n",
      "  HHHHHHHHHHH  \n",
      " HHHHHHHHHHHHH \n",
      "HHHHHHHHHHHHHHH\n",
      "    HHHHHHHH                        HHHHHHHH                    \n",
      "    HHHHHHHH                        HHHHHHHH                    \n",
      "    HHHHHHHH                        HHHHHHHH                    \n",
      "    HHHHHHHH                        HHHHHHHH                    \n",
      "    HHHHHHHH                        HHHHHHHH                    \n",
      "    HHHHHHHH                        HHHHHHHH                    \n",
      "    HHHHHHHH                        HHHHHHHH                    \n",
      "    HHHHHHHH                        HHHHHHHH                    \n",
      "    HHHHHHHH                        HHHHHHHH                    \n",
      "    HHHHHHHHHHHHHHHHHHHHHHHHHHHHHHHHHHHHHHHH    \n",
      "    HHHHHHHHHHHHHHHHHHHHHHHHHHHHHHHHHHHHHHHH    \n",
      "    HHHHHHHHHHHHHHHHHHHHHHHHHHHHHHHHHHHHHHHH    \n",
      "    HHHHHHHHHHHHHHHHHHHHHHHHHHHHHHHHHHHHHHHH    \n",
      "    HHHHHHHH                        HHHHHHHH                    \n",
      "    HHHHHHHH                        HHHHHHHH                    \n",
      "    HHHHHHHH                        HHHHHHHH                    \n",
      "    HHHHHHHH                        HHHHHHHH                    \n",
      "    HHHHHHHH                        HHHHHHHH                    \n",
      "    HHHHHHHH                        HHHHHHHH                    \n",
      "    HHHHHHHH                        HHHHHHHH                    \n",
      "    HHHHHHHH                        HHHHHHHH                    \n",
      "                                HHHHHHHHHHHHHHH \n",
      "                                 HHHHHHHHHHHHH  \n",
      "                                  HHHHHHHHHHH   \n",
      "                                   HHHHHHHHH    \n",
      "                                    HHHHHHH     \n",
      "                                     HHHHH      \n",
      "                                      HHH       \n",
      "                                       H        \n"
     ]
    }
   ],
   "source": [
    "#Replace all _______ with rjust, ljust, or center\n",
    "\n",
    "thickness = int(input()) #This must be an odd number.\n",
    "c = 'H'\n",
    "\n",
    "#Top cone\n",
    "for i in range(thickness):\n",
    "    print((c*i).rjust(thickness-1)+c+(c*i).ljust(thickness-1))\n",
    "    \n",
    "#Top pillars\n",
    "for i in range(thickness + 1):\n",
    "    print((c*thickness).center(thickness*2)+(c*thickness).center(thickness*6))\n",
    "    \n",
    "#Middle Belt\n",
    "for i in range((thickness+1)//2):\n",
    "    print((c*thickness*5).center(thickness*6))\n",
    "    \n",
    "#Bottom pillars\n",
    "for i in range(thickness):\n",
    "    print((c*thickness).center(thickness*2)+(c*thickness).center(thickness*6))\n",
    "    \n",
    "#Bottom cone\n",
    "for i in range(thickness):\n",
    "    print(((c*(thickness-i-1)).rjust(thickness)+c+(c*(thickness-i-1)).ljust(thickness)).rjust(thickness*6))"
   ]
  },
  {
   "cell_type": "code",
   "execution_count": null,
   "metadata": {},
   "outputs": [],
   "source": []
  }
 ],
 "metadata": {
  "kernelspec": {
   "display_name": "Python 3",
   "language": "python",
   "name": "python3"
  },
  "language_info": {
   "codemirror_mode": {
    "name": "ipython",
    "version": 3
   },
   "file_extension": ".py",
   "mimetype": "text/x-python",
   "name": "python",
   "nbconvert_exporter": "python",
   "pygments_lexer": "ipython3",
   "version": "3.8.5"
  }
 },
 "nbformat": 4,
 "nbformat_minor": 4
}
