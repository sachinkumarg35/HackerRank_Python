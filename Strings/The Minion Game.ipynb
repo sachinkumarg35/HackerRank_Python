{
 "cells": [
  {
   "cell_type": "markdown",
   "metadata": {},
   "source": [
    "Problem\n",
    "Kevin and Stuart want to play the ‘The Minion Game‘.\n",
    "\n",
    "Game Rules\n",
    "\n",
    "Both players are given the same string, S.\n",
    "Both players have to make substrings using the letters of the string S.\n",
    "Stuart has to make words starting with consonants.\n",
    "Kevin has to make words starting with vowels.\n",
    "The game ends when both players have made all possible substrings.\n",
    "\n",
    "Scoring\n",
    "A player gets +1 point for each occurrence of the substring in the string S."
   ]
  },
  {
   "cell_type": "code",
   "execution_count": 5,
   "metadata": {},
   "outputs": [
    {
     "name": "stdout",
     "output_type": "stream",
     "text": [
      "sachin\n",
      "Stuart 21\n"
     ]
    }
   ],
   "source": [
    "def minion_game(string):\n",
    "    vowels = 'aeiou'.upper()\n",
    "    strl = len(string)\n",
    "    kevin = sum(strl - i for i in range(strl) if string[i] in vowels)\n",
    "    stuart = strl*(strl + 1)/2 - kevin\n",
    "    \n",
    "    if kevin == stuart:\n",
    "        print(\"Draw\")\n",
    "    elif kevin > stuart:\n",
    "        print(\"Kevin %d\" % Kevin)\n",
    "    else:\n",
    "        print(\"Stuart %d\" % stuart)\n",
    "        \n",
    "if __name__ == '__main__':\n",
    "    s = input()\n",
    "    minion_game(s)"
   ]
  },
  {
   "cell_type": "code",
   "execution_count": null,
   "metadata": {},
   "outputs": [],
   "source": []
  }
 ],
 "metadata": {
  "kernelspec": {
   "display_name": "Python 3",
   "language": "python",
   "name": "python3"
  },
  "language_info": {
   "codemirror_mode": {
    "name": "ipython",
    "version": 3
   },
   "file_extension": ".py",
   "mimetype": "text/x-python",
   "name": "python",
   "nbconvert_exporter": "python",
   "pygments_lexer": "ipython3",
   "version": "3.8.5"
  }
 },
 "nbformat": 4,
 "nbformat_minor": 4
}
